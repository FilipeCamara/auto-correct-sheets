{
 "cells": [
  {
   "cell_type": "code",
   "execution_count": 4,
   "id": "fa07e674",
   "metadata": {},
   "outputs": [],
   "source": [
    "import os"
   ]
  },
  {
   "cell_type": "code",
   "execution_count": 5,
   "id": "9bb83903",
   "metadata": {},
   "outputs": [],
   "source": [
    "dir_name = \"csv\"\n",
    "test = os.listdir(dir_name)\n",
    "\n",
    "i = 0\n",
    "for archive in test:\n",
    "    globals()[f'plan{i}'] = test[i].split('.')[0]\n",
    "    i = i + 1"
   ]
  },
  {
   "cell_type": "code",
   "execution_count": 6,
   "id": "3eabdadd",
   "metadata": {},
   "outputs": [],
   "source": [
    "folder = 'csv/'\n",
    "b = 0\n",
    "\n",
    "for file_name in os.listdir(folder):\n",
    "    globals()[f'nam{b}'] = file_name\n",
    "    globals()[f'dest{b}'] = globals()[f'plan{b}'] + \".xlsx\"\n",
    "    os.rename(folder + globals()[f'nam{b}'], folder + globals()[f'dest{b}'])\n",
    "    b = b + 1"
   ]
  }
 ],
 "metadata": {
  "kernelspec": {
   "display_name": "Python 3 (ipykernel)",
   "language": "python",
   "name": "python3"
  },
  "language_info": {
   "codemirror_mode": {
    "name": "ipython",
    "version": 3
   },
   "file_extension": ".py",
   "mimetype": "text/x-python",
   "name": "python",
   "nbconvert_exporter": "python",
   "pygments_lexer": "ipython3",
   "version": "3.10.9"
  }
 },
 "nbformat": 4,
 "nbformat_minor": 5
}
